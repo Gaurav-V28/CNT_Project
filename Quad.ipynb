{
 "cells": [
  {
   "cell_type": "code",
   "execution_count": 4,
   "metadata": {
    "vscode": {
     "languageId": "sage"
    }
   },
   "outputs": [],
   "source": [
    "import numpy as np\n",
    "from itertools import combinations\n",
    "from sage.all import QQ, NumberField, PolynomialRing"
   ]
  },
  {
   "cell_type": "code",
   "execution_count": 5,
   "metadata": {
    "vscode": {
     "languageId": "sage"
    }
   },
   "outputs": [],
   "source": [
    "def find_feasible_vertices(A, b):\n",
    "    \"\"\"Find vertices of polytope defined by A @ x ≤ b\"\"\"\n",
    "    num_vars = A.shape[1]\n",
    "    vertices = []\n",
    "    \n",
    "    for indices in combinations(range(len(A)), num_vars):\n",
    "        A_sub = A[list(indices)]\n",
    "        b_sub = b[list(indices)]\n",
    "        \n",
    "        try:\n",
    "            vertex = np.linalg.solve(A_sub, b_sub)\n",
    "            if np.all(A @ vertex <= b + 1e-6):\n",
    "                vertices.append(vertex)\n",
    "        except np.linalg.LinAlgError:\n",
    "            continue\n",
    "    \n",
    "    return np.unique(np.round(vertices, decimals=6), axis=0) if vertices else np.array([])\n",
    "\n",
    "\n",
    "\n",
    "\n",
    "def twoParts(alpha, embeddings):\n",
    "    \"\"\"FIELD INPUT Calculation\"\"\"\n",
    "    K = alpha.parent().fraction_field()  \n",
    "    \n",
    "    if not K.is_totally_real():\n",
    "        raise ValueError(\"Field must be totally real\")\n",
    "    \n",
    "    O = K.maximal_order()\n",
    "    basis = O.basis()\n",
    "    \"\"\"FIELD INPUT Calculation Over\"\"\"\n",
    "\n",
    "    \"\"\"BOUNDS CALCULATION\"\"\"\n",
    "    embedding_data = []\n",
    "    for sig in embeddings:\n",
    "        a_img = sig(basis[0]) if len(basis) > 0 else 0\n",
    "        b_img = sig(basis[1]) if len(basis) > 1 else 0\n",
    "        alpha_img = sig(alpha)\n",
    "        embedding_data.append((a_img, b_img, alpha_img))\n",
    " \n",
    "    A_ineq = []\n",
    "    b_ineq = []\n",
    "    epsilon = 1e-6\n",
    "    \n",
    "    for (a, b, Alpha) in embedding_data:\n",
    "        A_ineq.append([float(a), float(b)])\n",
    "        b_ineq.append(float(Alpha) - epsilon)\n",
    "        A_ineq.append([-float(a), -float(b)])\n",
    "        b_ineq.append(-epsilon)\n",
    "\n",
    "    A_ineq = np.array(A_ineq)\n",
    "    b_ineq = np.array(b_ineq)\n",
    "    \n",
    "    vertices = find_feasible_vertices(A_ineq, b_ineq)\n",
    "    \n",
    "    if not vertices.size:\n",
    "        return 0, []\n",
    "    \n",
    "    bound = []\n",
    "    \n",
    "    for i in range(2):\n",
    "        a = []\n",
    "        a.append(np.floor(np.min(vertices[:, i])))\n",
    "        a.append(np.ceil(np.max(vertices[:, i])))\n",
    "        bound.append(a)\n",
    "  \n",
    "    k1_min, k1_max = bound[0][0], bound[0][1]\n",
    "    k2_min, k2_max = bound[1][0], bound[1][1]\n",
    "\n",
    "    \"\"\"BOUNDS CALCULATION OVER\"\"\"\n",
    "\n",
    "    \"\"\"FINDING PARTITIONS\"\"\"\n",
    "    partitions = []\n",
    "    for k1 in range(int(k1_min), int(k1_max) + 1):\n",
    "        for k2 in range(int(k2_min), int(k2_max) + 1):\n",
    "            beta = k1 * basis[0] + k2 * basis[1] \n",
    "         \n",
    "            Y = alpha - beta\n",
    "            \n",
    "            if beta == 0 or Y == 0:\n",
    "                continue\n",
    "            \n",
    "            if beta.is_totally_positive() and Y.is_totally_positive():\n",
    "                partitions.append((beta, Y))\n",
    "    \n",
    "    unique_partitions = []\n",
    "    seen = set()\n",
    "    for pair in partitions:\n",
    "        if pair not in seen and pair[::-1] not in seen:\n",
    "            seen.add(pair)\n",
    "            unique_partitions.append(pair)\n",
    "    \n",
    "    return unique_partitions\n",
    "\n",
    "def allParts(alpha, embeddings, memo=None):\n",
    "    \"\"\"\n",
    "    Recursively find all partitions of alpha into sums of totally positive elements.\n",
    "    Stops recursion when no further partitions are possible.\n",
    "    Returns the number of unique partitions.\n",
    "    \"\"\"\n",
    "    if memo is None:\n",
    "        memo = {}                               \n",
    "    \n",
    "    alpha_key = tuple(alpha.list())\n",
    "    if alpha_key in memo:\n",
    "        return memo[alpha_key]\n",
    "    \n",
    "    \n",
    "    partitions = twoParts(alpha, embeddings)\n",
    "\n",
    "    all_partitions = []\n",
    "    \n",
    "    for beta, gamma in partitions:\n",
    "        all_partitions.append([beta, gamma])\n",
    "    \n",
    "        beta_partitions = allParts(beta, embeddings, memo)\n",
    "        for p in beta_partitions:\n",
    "            all_partitions.append(p + [gamma])\n",
    "        \n",
    "        gamma_partitions = allParts(gamma, embeddings, memo)\n",
    "        for p in gamma_partitions:\n",
    "            all_partitions.append([beta] + p)\n",
    "\n",
    "    unique_partitions = []\n",
    "    seen = set()\n",
    "    for partition in all_partitions:\n",
    "        sorted_part = tuple(sorted(tuple(x.list()) for x in partition))\n",
    "        \n",
    "        if sorted_part not in seen:\n",
    "            seen.add(sorted_part)\n",
    "            unique_partitions.append(partition)\n",
    "    \n",
    "    memo[alpha_key] = unique_partitions\n",
    "\n",
    "    return unique_partitions\n",
    "\n",
    "def Partitions(alpha, embeddings):\n",
    "    memo={}\n",
    "    if alpha.is_totally_positive():\n",
    "        partitions = allParts(alpha,embeddings,memo)\n",
    "        return len(partitions)+1,memo\n",
    "    else:\n",
    "        return \"The number given is not totally positive\"\n",
    "\n",
    "def memolength(memo):\n",
    "    \"\"\"CALCULATES LENGTH OF MEMO\"\"\"\n",
    "    lmemo={}\n",
    "    for key in memo:\n",
    "        lmemo[key]=len(memo[key])\n",
    "    return(lmemo)\n",
    "\n"
   ]
  },
  {
   "cell_type": "code",
   "execution_count": 6,
   "metadata": {
    "vscode": {
     "languageId": "sage"
    }
   },
   "outputs": [
    {
     "name": "stdout",
     "output_type": "stream",
     "text": [
      "1415\n"
     ]
    }
   ],
   "source": [
    "R.<x> = QQ[]\n",
    "K.<x> = NumberField(x^2-2)\n",
    "O = K.ring_of_integers()\n",
    "embeddings = K.embeddings(QQbar)  \n",
    "\n",
    "alpha=14-2*x\n",
    "alpha1 = O.coordinates(alpha)[0]*O.basis()[0] + O.coordinates(alpha)[1]*O.basis()[1]\n",
    "l,fmemo=Partitions(alpha1, embeddings)\n",
    "\n",
    "print(l)"
   ]
  },
  {
   "cell_type": "markdown",
   "metadata": {},
   "source": [
    "The below codes are to write CSV files etc."
   ]
  },
  {
   "cell_type": "code",
   "execution_count": 23,
   "metadata": {
    "vscode": {
     "languageId": "sage"
    }
   },
   "outputs": [],
   "source": [
    "import csv\n",
    "\n",
    "def Partition_Function(D, a, b):\n",
    "    R.<x> = QQ[]\n",
    "    K.<x> = NumberField(x^2 - D)\n",
    "    O = K.ring_of_integers()\n",
    "    embeddings = K.embeddings(QQbar) \n",
    "    \n",
    "    if D % 4 == 1:\n",
    "        alpha = a + b * O.basis()[0]\n",
    "    else:\n",
    "        alpha = a + b * x\n",
    "    \n",
    "    l, fmemo = Partitions(alpha, embeddings)\n",
    "    \n",
    "    # Writing to CSV file\n",
    "    with open(\"partition_results5.csv\", mode=\"a\", newline=\"\") as file:\n",
    "        writer = csv.writer(file)\n",
    "        writer.writerow([a, b, l])\n",
    "\n",
    "\n",
    " \n"
   ]
  },
  {
   "cell_type": "code",
   "execution_count": 24,
   "metadata": {
    "vscode": {
     "languageId": "sage"
    }
   },
   "outputs": [],
   "source": [
    "for j in range(16):\n",
    "    for i in range(16):\n",
    "        try:\n",
    "            Partition_Function(5,j,i)\n",
    "        except ValueError:\n",
    "            continue"
   ]
  }
 ],
 "metadata": {
  "kernelspec": {
   "display_name": "SageMath 10.5",
   "language": "sage",
   "name": "sagemath"
  },
  "language_info": {
   "codemirror_mode": {
    "name": "ipython",
    "version": 3
   },
   "file_extension": ".py",
   "mimetype": "text/x-python",
   "name": "python",
   "nbconvert_exporter": "python",
   "pygments_lexer": "ipython3",
   "version": "3.12.9"
  }
 },
 "nbformat": 4,
 "nbformat_minor": 4
}
